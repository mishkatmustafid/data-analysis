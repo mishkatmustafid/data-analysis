{
 "cells": [
  {
   "cell_type": "code",
   "execution_count": 1,
   "id": "f69e1759-52e1-4d77-b61a-a184900ec503",
   "metadata": {
    "tags": []
   },
   "outputs": [],
   "source": [
    "import pandas as pd\n",
    "import numpy as np\n",
    "import matplotlib.pyplot as plt\n",
    "from sklearn.cluster import KMeans\n",
    "from sklearn.datasets import make_blobs"
   ]
  },
  {
   "cell_type": "markdown",
   "id": "0e653f87-d39b-424e-a78c-5c1382712f43",
   "metadata": {},
   "source": [
    "## CODE.py"
   ]
  },
  {
   "cell_type": "code",
   "execution_count": null,
   "id": "59c565cc-d554-4d40-ac98-6b3d10a22b7c",
   "metadata": {},
   "outputs": [],
   "source": [
    "# load the dataset into a pandas DataFrame\n",
    "df = pd.read_csv('datasets/dataset.csv')\n",
    "\n",
    "# print the number of rows and columns in the dataset\n",
    "print('Number of rows:', df.shape[0])\n",
    "print('Number of columns:', df.shape[1])\n",
    "\n",
    "# calculate the skewness and kurtosis of each column\n",
    "skewness = df.skew()\n",
    "kurtosis = df.kurt()\n",
    "\n",
    "# print the skewness and kurtosis of each column\n",
    "print('Skewness:')\n",
    "print(skewness)\n",
    "print('Kurtosis:')\n",
    "print(kurtosis)\n",
    "\n",
    "# plot a histogram of each column\n",
    "for column in df.columns:\n",
    "    plt.hist(df[column])\n",
    "    plt.title(column)\n",
    "    plt.show()\n",
    "\n",
    "# plot a scatter plot of each pair of columns\n",
    "for i in range(df.shape[1]-1):\n",
    "    for j in range(i+1, df.shape[1]):\n",
    "        plt.scatter(df.iloc[:,i], df.iloc[:,j])\n",
    "        plt.xlabel(df.columns[i])\n",
    "        plt.ylabel(df.columns[j])\n",
    "        plt.show()\n"
   ]
  },
  {
   "cell_type": "markdown",
   "id": "d6c179ee-14d4-4ea7-b409-c5f09b0e30ef",
   "metadata": {},
   "source": [
    "## K-mean.py"
   ]
  },
  {
   "cell_type": "code",
   "execution_count": null,
   "id": "cf6b05cc-410e-4d5e-b990-1c7bd6f39740",
   "metadata": {},
   "outputs": [],
   "source": [
    "# Generate random data for clustering\n",
    "X, y = make_blobs(n_samples=300, centers=4, cluster_std=0.60, random_state=0)\n",
    "\n",
    "# Visualize the data\n",
    "plt.scatter(X[:, 0], X[:, 1], s=50);\n",
    "\n",
    "# Create K-means clustering model with 4 clusters\n",
    "kmeans = KMeans(n_clusters=4)\n",
    "\n",
    "# Fit the data to the model\n",
    "kmeans.fit(X)\n",
    "\n",
    "# Get the cluster labels and centroids\n",
    "labels = kmeans.labels_\n",
    "centroids = kmeans.cluster_centers_\n",
    "\n",
    "# Visualize the clusters and centroids\n",
    "colors = ['r', 'g', 'b', 'y']\n",
    "for i in range(len(X)):\n",
    "    plt.scatter(X[i][0], X[i][1], c=colors[labels[i]], s=50)\n",
    "\n",
    "plt.scatter(centroids[:, 0], centroids[:, 1], marker='*', s=200, c='#050505')\n",
    "plt.show()\n"
   ]
  },
  {
   "cell_type": "markdown",
   "id": "d9d0e021-ef0c-48d0-8a73-46846f264988",
   "metadata": {},
   "source": [
    "## Miss.py"
   ]
  },
  {
   "cell_type": "code",
   "execution_count": null,
   "id": "9cd0152c-17a4-46b5-9505-4f0b8a7bf21b",
   "metadata": {},
   "outputs": [],
   "source": [
    "# Load data from a CSV file\n",
    "data = pd.read_csv('data.csv')\n",
    "\n",
    "# Check for incorrect data types\n",
    "data['age'] = pd.to_numeric(data['age'], errors='coerce')\n",
    "data['is_active'] = data['is_active'].astype(bool)\n",
    "\n",
    "# Check for irrelevant variables and drop them\n",
    "data = data.drop(columns=['id'])\n",
    "\n",
    "# Check for missing values and fill them with mean or median\n",
    "mean_age = data['age'].mean()\n",
    "data['age'].fillna(mean_age, inplace=True)\n",
    "\n",
    "median_income = data['income'].median()\n",
    "data['income'].fillna(median_income, inplace=True)\n",
    "\n",
    "# Check for duplicates and drop them\n",
    "data.drop_duplicates(inplace=True)\n",
    "\n",
    "# Print the cleaned data\n",
    "print(data.head())\n"
   ]
  },
  {
   "cell_type": "markdown",
   "id": "a1923731-dc21-44e1-a9a5-d5a4719e16c8",
   "metadata": {},
   "source": [
    "## Time.py"
   ]
  },
  {
   "cell_type": "code",
   "execution_count": null,
   "id": "59bbb0ad-23ff-48c4-885d-fbf8854272bd",
   "metadata": {},
   "outputs": [],
   "source": [
    "# Load time series data from a CSV file\n",
    "data = pd.read_csv('data.csv', parse_dates=['date'], index_col='date')\n",
    "\n",
    "# Print the first few rows of the data\n",
    "print(data.head())\n",
    "\n",
    "# Resample the data to monthly frequency\n",
    "monthly_data = data.resample('M').mean()\n",
    "\n",
    "# Visualize the time series data\n",
    "plt.plot(monthly_data)\n",
    "plt.xlabel('Date')\n",
    "plt.ylabel('Value')\n",
    "plt.title('Time Series Data')\n",
    "plt.show()\n",
    "\n",
    "# Calculate the rolling mean and standard deviation\n",
    "rolling_mean = monthly_data.rolling(window=12).mean()\n",
    "rolling_std = monthly_data.rolling(window=12).std()\n",
    "\n",
    "# Visualize the rolling statistics\n",
    "plt.plot(monthly_data, color='blue', label='Original')\n",
    "plt.plot(rolling_mean, color='red', label='Rolling Mean')\n",
    "plt.plot(rolling_std, color='black', label='Rolling Std')\n",
    "plt.xlabel('Date')\n",
    "plt.ylabel('Value')\n",
    "plt.title('Rolling Statistics')\n",
    "plt.legend()\n",
    "plt.show()\n",
    "\n",
    "# Perform time series decomposition\n",
    "from statsmodels.tsa.seasonal import seasonal_decompose\n",
    "\n",
    "decomposition = seasonal_decompose(monthly_data)\n",
    "\n",
    "trend = decomposition.trend\n",
    "seasonal = decomposition.seasonal\n",
    "residual = decomposition.resid\n",
    "\n",
    "# Visualize the decomposed components\n",
    "plt.subplot(411)\n",
    "plt.plot(monthly_data, label='Original')\n",
    "plt.legend(loc='best')\n",
    "plt.subplot(412)\n",
    "plt.plot(trend, label='Trend')\n",
    "plt.legend(loc='best')\n",
    "plt.subplot(413)\n",
    "plt.plot(seasonal,label='Seasonality')\n",
    "plt.legend(loc='best')\n",
    "plt.subplot(414)\n",
    "plt.plot(residual, label='Residuals')\n",
    "plt.legend(loc='best')\n",
    "plt.tight_layout()\n",
    "plt.show()\n"
   ]
  }
 ],
 "metadata": {
  "kernelspec": {
   "display_name": "Python 3 (ipykernel)",
   "language": "python",
   "name": "python3"
  },
  "language_info": {
   "codemirror_mode": {
    "name": "ipython",
    "version": 3
   },
   "file_extension": ".py",
   "mimetype": "text/x-python",
   "name": "python",
   "nbconvert_exporter": "python",
   "pygments_lexer": "ipython3",
   "version": "3.11.2"
  }
 },
 "nbformat": 4,
 "nbformat_minor": 5
}
